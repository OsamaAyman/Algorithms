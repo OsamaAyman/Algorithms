{
 "cells": [
  {
   "cell_type": "markdown",
   "metadata": {},
   "source": [
    "## Algorithm HW#1"
   ]
  },
  {
   "cell_type": "markdown",
   "metadata": {},
   "source": [
    "### Q1-"
   ]
  },
  {
   "cell_type": "markdown",
   "metadata": {},
   "source": [
    "#### 3n ---->Linear\n",
    "#### 3n^2 ------>Polynomial\n",
    "#### 2^n ------->Exponential\n",
    "#### (3/2)^n ----->Exponential\n",
    "#### 1000 ---> Constant\n",
    "#### 1 ----->Constant\n",
    "#### (3/2)n ----->Linear\n",
    "#### 3n^3 ------>Polynomial"
   ]
  },
  {
   "cell_type": "markdown",
   "metadata": {},
   "source": [
    "### Q2-"
   ]
  },
  {
   "cell_type": "markdown",
   "metadata": {},
   "source": [
    "##### 2^n ----->(3/2)^n ------> n^3 -------> n^2 ------>n -------->1"
   ]
  },
  {
   "cell_type": "markdown",
   "metadata": {},
   "source": [
    "### Q3-"
   ]
  },
  {
   "cell_type": "markdown",
   "metadata": {},
   "source": [
    "#### n+30 --->3n-1\n",
    "#### n^2+2n-10 ----->n^2+3n\n",
    "#### n^3*3n ------>n^4\n",
    "#### log 2x ----->log x"
   ]
  },
  {
   "cell_type": "markdown",
   "metadata": {},
   "source": [
    "### Q4-"
   ]
  },
  {
   "cell_type": "markdown",
   "metadata": {},
   "source": [
    "##### O(√n)"
   ]
  },
  {
   "cell_type": "markdown",
   "metadata": {},
   "source": [
    "### Q5-"
   ]
  },
  {
   "cell_type": "code",
   "execution_count": 140,
   "metadata": {},
   "outputs": [
    {
     "data": {
      "text/plain": [
       "2"
      ]
     },
     "execution_count": 140,
     "metadata": {},
     "output_type": "execute_result"
    }
   ],
   "source": [
    "def minDistance(array):\n",
    "    array=sorted(array)\n",
    "    mine=1e5\n",
    "    for i in range(len(array)-1):\n",
    "        if abs(array[i+1]-array[i])<mine:\n",
    "            mine=array[i+1]-array[i]\n",
    "    \n",
    "    return mine\n",
    "    \n",
    "    \n",
    "####################################\n",
    "l=[1,5,8,11,56,40,52,3,15,90]\n",
    "minDistance(l)"
   ]
  },
  {
   "cell_type": "markdown",
   "metadata": {},
   "source": [
    "### Q6-"
   ]
  },
  {
   "cell_type": "code",
   "execution_count": 150,
   "metadata": {},
   "outputs": [
    {
     "data": {
      "text/plain": [
       "[2, 5, 5]"
      ]
     },
     "execution_count": 150,
     "metadata": {},
     "output_type": "execute_result"
    }
   ],
   "source": [
    "lst1 = [2, 5, 5, 5 ]\n",
    "lst2 = [2, 2, 3, 5, 5, 7]\n",
    "\n",
    "from collections import defaultdict\n",
    "items_freq = defaultdict(int)\n",
    "out=[]\n",
    "for i in lst1:\n",
    "    items_freq[i] += 1\n",
    "    \n",
    "for i in lst2:\n",
    "    if i in items_freq and items_freq[i]>0 :\n",
    "        items_freq[i]-=1\n",
    "        out.append(i)\n",
    "        \n",
    "   \n",
    "\n",
    "\n",
    "out"
   ]
  },
  {
   "cell_type": "markdown",
   "metadata": {},
   "source": [
    "### Q7-"
   ]
  },
  {
   "cell_type": "code",
   "execution_count": 152,
   "metadata": {},
   "outputs": [
    {
     "data": {
      "text/plain": [
       "1"
      ]
     },
     "execution_count": 152,
     "metadata": {},
     "output_type": "execute_result"
    }
   ],
   "source": [
    "def gcd(num1,num2):\n",
    "    if num2==0:\n",
    "        return num1\n",
    "    return gcd(num2, num1%num2)\n",
    "\n",
    "gcd(31415,14142)"
   ]
  },
  {
   "cell_type": "markdown",
   "metadata": {},
   "source": [
    "# Factorial Iterative\n"
   ]
  },
  {
   "cell_type": "code",
   "execution_count": 2,
   "metadata": {},
   "outputs": [
    {
     "data": {
      "text/plain": [
       "120"
      ]
     },
     "execution_count": 2,
     "metadata": {},
     "output_type": "execute_result"
    }
   ],
   "source": [
    "def factorial_iterative(n):\n",
    "    fact=1\n",
    "    for i in range(2,n+1):\n",
    "        fact*=i\n",
    "    return fact\n",
    "\n",
    "####################################\n",
    "factorial_iterative(5)"
   ]
  },
  {
   "cell_type": "markdown",
   "metadata": {},
   "source": [
    "### Complexity---> O(n)"
   ]
  },
  {
   "cell_type": "markdown",
   "metadata": {},
   "source": [
    "# Recursive Factorial\n"
   ]
  },
  {
   "cell_type": "code",
   "execution_count": 124,
   "metadata": {},
   "outputs": [
    {
     "data": {
      "text/plain": [
       "120"
      ]
     },
     "execution_count": 124,
     "metadata": {},
     "output_type": "execute_result"
    }
   ],
   "source": [
    "def factorial_rec(n):\n",
    "    if n==1:\n",
    "        return 1\n",
    "    return n*factorial_recur(n-1)\n",
    "\n",
    "###############################\n",
    "factorial_rec(5)"
   ]
  },
  {
   "cell_type": "markdown",
   "metadata": {},
   "source": [
    "### Complexity---> O(n)"
   ]
  },
  {
   "cell_type": "markdown",
   "metadata": {},
   "source": [
    "# Fibonacci Iterative\n"
   ]
  },
  {
   "cell_type": "code",
   "execution_count": 35,
   "metadata": {},
   "outputs": [
    {
     "data": {
      "text/plain": [
       "21"
      ]
     },
     "execution_count": 35,
     "metadata": {},
     "output_type": "execute_result"
    }
   ],
   "source": [
    "def fibo_iter(n):\n",
    "    n1=0\n",
    "    n2=1\n",
    "   \n",
    "    fibo=1\n",
    "    for _ in range(n-1):\n",
    "        fibo=n1+n2\n",
    "        n1=n2\n",
    "        n2=fibo\n",
    "        \n",
    "    return fibo \n",
    "\n",
    "############################\n",
    "fibo_iter(8)"
   ]
  },
  {
   "cell_type": "markdown",
   "metadata": {},
   "source": [
    "### Complexity---> O(n)"
   ]
  },
  {
   "cell_type": "markdown",
   "metadata": {},
   "source": [
    "# Fibonacci Recursion"
   ]
  },
  {
   "cell_type": "code",
   "execution_count": 37,
   "metadata": {},
   "outputs": [
    {
     "data": {
      "text/plain": [
       "21"
      ]
     },
     "execution_count": 37,
     "metadata": {},
     "output_type": "execute_result"
    }
   ],
   "source": [
    "def fibo_rec(n):\n",
    "    if n==0:\n",
    "        return 0\n",
    "    if n==1:\n",
    "        return 1\n",
    "    return fibo_rec(n-1)+fibo_rec(n-2)\n",
    "\n",
    "#####################################\n",
    "fibo_rec(8)"
   ]
  },
  {
   "cell_type": "markdown",
   "metadata": {},
   "source": [
    "### Complexity---> O(2^n)"
   ]
  },
  {
   "cell_type": "markdown",
   "metadata": {},
   "source": [
    "# Iterative Linear Search"
   ]
  },
  {
   "cell_type": "code",
   "execution_count": 41,
   "metadata": {},
   "outputs": [
    {
     "data": {
      "text/plain": [
       "3"
      ]
     },
     "execution_count": 41,
     "metadata": {},
     "output_type": "execute_result"
    }
   ],
   "source": [
    "def linearSearch_iter(array,element):\n",
    "    for i,x in enumerate(array):\n",
    "        if x==element:\n",
    "            return i \n",
    "    return -1\n",
    "        \n",
    "########################################\n",
    "l=[1,5,8,7,56,40,57,3,6,90]\n",
    "linearSearch_iter(l,7)"
   ]
  },
  {
   "cell_type": "markdown",
   "metadata": {},
   "source": [
    "### Complexity---> O(n)"
   ]
  },
  {
   "cell_type": "markdown",
   "metadata": {},
   "source": [
    "# Recursion linear search\n"
   ]
  },
  {
   "cell_type": "code",
   "execution_count": 54,
   "metadata": {},
   "outputs": [
    {
     "data": {
      "text/plain": [
       "3"
      ]
     },
     "execution_count": 54,
     "metadata": {},
     "output_type": "execute_result"
    }
   ],
   "source": [
    "def linearSearch_rec(array,element,index=0):\n",
    "    if index==len(array):\n",
    "        return -1\n",
    "    if element==array[index]:\n",
    "        return index\n",
    "    return linearSearch_rec(array,element,index+1)\n",
    "\n",
    "########################################\n",
    "l=[1,5,8,7,56,40,57,3,6,90]\n",
    "linearSearch_rec(l,7)"
   ]
  },
  {
   "cell_type": "markdown",
   "metadata": {},
   "source": [
    "### Complexity---> O(n)"
   ]
  },
  {
   "cell_type": "markdown",
   "metadata": {},
   "source": [
    "# Binary Search Iterative"
   ]
  },
  {
   "cell_type": "code",
   "execution_count": 113,
   "metadata": {},
   "outputs": [
    {
     "data": {
      "text/plain": [
       "4"
      ]
     },
     "execution_count": 113,
     "metadata": {},
     "output_type": "execute_result"
    }
   ],
   "source": [
    "def binarySearch_iter(array,element):\n",
    "    array=sorted(array)\n",
    "    start=0\n",
    "    end=len(array)-1\n",
    "   \n",
    "    while 1:\n",
    "        if start>end:\n",
    "            return -1\n",
    "        \n",
    "        mid=(start+end)//2\n",
    "        \n",
    "        if element==array[mid]:\n",
    "            return mid\n",
    "        \n",
    "        \n",
    "        elif element>array[mid]:\n",
    "            start=mid+1\n",
    "            \n",
    "            \n",
    "        else:\n",
    "            end=mid-1\n",
    "            \n",
    "        \n",
    "       \n",
    "        \n",
    "########################################\n",
    "l=[1,2,3,4,5,6,7]\n",
    "binarySearch_iter(l,5)    "
   ]
  },
  {
   "cell_type": "markdown",
   "metadata": {},
   "source": [
    "### Complexity---> O(log n)"
   ]
  },
  {
   "cell_type": "markdown",
   "metadata": {},
   "source": [
    "# Binary Search Recursive"
   ]
  },
  {
   "cell_type": "code",
   "execution_count": 121,
   "metadata": {},
   "outputs": [
    {
     "data": {
      "text/plain": [
       "2"
      ]
     },
     "execution_count": 121,
     "metadata": {},
     "output_type": "execute_result"
    }
   ],
   "source": [
    "def binarySearch_rec(array,element,start,end):\n",
    "    mid=(start+end)//2\n",
    "    if start>end:\n",
    "        return -1\n",
    "    if element==array[mid]:\n",
    "        return mid\n",
    "    \n",
    "    if element>array[mid]:\n",
    "        return binarySearch_rec(array,element,mid+1,end)\n",
    "    else:\n",
    "        return binarySearch_rec(array,element,start,mid-1)\n",
    "    \n",
    "########################################\n",
    "l=[1,2,3,4,5,6,7]\n",
    "x=3\n",
    "binarySearch_rec(l,x,0,len(l)-1)   "
   ]
  },
  {
   "cell_type": "markdown",
   "metadata": {},
   "source": [
    "### Complexity---> O(log n)"
   ]
  },
  {
   "cell_type": "code",
   "execution_count": null,
   "metadata": {},
   "outputs": [],
   "source": []
  },
  {
   "cell_type": "code",
   "execution_count": null,
   "metadata": {},
   "outputs": [],
   "source": []
  }
 ],
 "metadata": {
  "kernelspec": {
   "display_name": "Python 3",
   "language": "python",
   "name": "python3"
  },
  "language_info": {
   "codemirror_mode": {
    "name": "ipython",
    "version": 3
   },
   "file_extension": ".py",
   "mimetype": "text/x-python",
   "name": "python",
   "nbconvert_exporter": "python",
   "pygments_lexer": "ipython3",
   "version": "3.8.8"
  },
  "toc": {
   "base_numbering": 1,
   "nav_menu": {},
   "number_sections": true,
   "sideBar": true,
   "skip_h1_title": false,
   "title_cell": "Table of Contents",
   "title_sidebar": "Contents",
   "toc_cell": false,
   "toc_position": {},
   "toc_section_display": true,
   "toc_window_display": false
  }
 },
 "nbformat": 4,
 "nbformat_minor": 4
}
