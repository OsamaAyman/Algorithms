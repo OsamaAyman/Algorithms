{
 "cells": [
  {
   "cell_type": "markdown",
   "id": "173b4df6",
   "metadata": {},
   "source": [
    "###### Osama Ayman Ebrahim\n",
    "###### AI suez canal"
   ]
  },
  {
   "cell_type": "markdown",
   "id": "dcc78fa9",
   "metadata": {},
   "source": [
    "# Karatsuba algorithm for fast multiplication"
   ]
  },
  {
   "cell_type": "markdown",
   "id": "97e00691",
   "metadata": {},
   "source": [
    "#### if x= '5432' ;  y='1678'\n",
    "#### we will split x to a,b and  y to c,d\n",
    "#### a='54' ; b='32'\n",
    "#### c='16' ; d='78'\n",
    "#### then we can write x as x=(10^N/2)a+b\n",
    "#### and y as y=(10^N/2)c+d\n",
    "\n",
    "#### x=(10^2)*54+32\n",
    "#### y=(10^2)*16+78\n",
    "#### then:-\n",
    "#### x*y=[(10^N/2)a+b] * [(10^N/2)c+d] = {(10^N/2)a*(10^N/2)c}+{(10^N/2)a*d} +{(10^N/2)c*b} + {bd} \n",
    "#### =(10^n)ac+(10^n/2)(ad+cb)+bd"
   ]
  },
  {
   "cell_type": "code",
   "execution_count": 50,
   "id": "20131d0a",
   "metadata": {},
   "outputs": [],
   "source": [
    "#this function to make two numbers equal length\n",
    "def padding(str1,str2):\n",
    "    if len(str1)>len(str2):\n",
    "        for i in range(len(str1)-len(str2)):\n",
    "            str2='0'+str2\n",
    "    else:\n",
    "        for i in range(len(str2)-len(str1)):\n",
    "            str1='0'+str1\n",
    "    return str1,str2"
   ]
  },
  {
   "cell_type": "code",
   "execution_count": 53,
   "id": "9b256154",
   "metadata": {},
   "outputs": [
    {
     "data": {
      "text/plain": [
       "9114896"
      ]
     },
     "execution_count": 53,
     "metadata": {},
     "output_type": "execute_result"
    }
   ],
   "source": [
    "def Karatsuba(x,y):\n",
    "    if len(x)!=len(y):\n",
    "        x,y=padding(x,y)\n",
    "    n=len(x)\n",
    "    \n",
    "    if n==1:\n",
    "        return int(x)*int(y)\n",
    "    \n",
    "    a=x[:n//2]\n",
    "    b=x[n//2:]\n",
    "    c=y[:n//2]\n",
    "    d=y[n//2:]\n",
    "    \n",
    "    \n",
    "    if n%2==0:\n",
    "        return ((10**n)*Karatsuba(a,c))+(((10**(n//2))*(Karatsuba(b,c)+Karatsuba(a,d))))+(Karatsuba(b,d))\n",
    "    else:\n",
    "        return ((10**(n+1))*Karatsuba(a,c))+(((10**((n//2)+1))*(Karatsuba(b,c)+Karatsuba(a,d))))+(Karatsuba(b,d))\n",
    "        \n",
    "\n",
    "Karatsuba('5432','1678')\n",
    "# Karatsuba('103','46')"
   ]
  },
  {
   "cell_type": "markdown",
   "id": "451d0abb",
   "metadata": {},
   "source": [
    "## enhancement on Karatsuba to consume less time \n",
    "#### if we suppose z=(a+b)*(c+d) = ac+ad+bc+bd\n",
    "#### and m1=a*c\n",
    "#### and m2=b*d\n",
    "#### then Karatsuba equation will be\n",
    "#### xy=(10^n)m1+(10^n/2)(z-m1-m1)+m2    \n",
    "#### then we approve Karatsuba from calculate 4 multiplication (ac , ad ,cd ,bd) \n",
    "#### to calculate 3 multiplication (m1=ac ,m2=bd ,z=(a+b)*(c+d))\n"
   ]
  },
  {
   "cell_type": "code",
   "execution_count": 52,
   "id": "b924067d",
   "metadata": {},
   "outputs": [
    {
     "data": {
      "text/plain": [
       "9114896"
      ]
     },
     "execution_count": 52,
     "metadata": {},
     "output_type": "execute_result"
    }
   ],
   "source": [
    "def Karatsuba(x,y):\n",
    "    if len(x)!=len(y):\n",
    "        x,y=padding(x,y)\n",
    "    n=len(x)\n",
    "    \n",
    "    if n==1:\n",
    "        return int(x)*int(y)\n",
    "    \n",
    "    a=x[:n//2]\n",
    "    b=x[n//2:]\n",
    "    c=y[:n//2]\n",
    "    d=y[n//2:]\n",
    "    \n",
    "    m1=Karatsuba(a,c)\n",
    "    m2=Karatsuba(b,d)\n",
    "    z=Karatsuba(str(int(a)+int(b)),str(int(c)+int(d)))\n",
    "    if n%2==0:\n",
    "        return (10**n)*m1+(10**(n//2))*(z-m1-m2)+m2\n",
    "    else:\n",
    "        return (10**(n+1))*m1+(10**((n//2)+1))*(z-m1-m2)+m2\n",
    "        \n",
    "Karatsuba('5432','1678')"
   ]
  },
  {
   "cell_type": "markdown",
   "id": "4bb171ed",
   "metadata": {},
   "source": [
    "# Fractional Knapsack Problem"
   ]
  },
  {
   "cell_type": "code",
   "execution_count": 28,
   "id": "983e945a",
   "metadata": {},
   "outputs": [
    {
     "data": {
      "text/plain": [
       "240.0"
      ]
     },
     "execution_count": 28,
     "metadata": {},
     "output_type": "execute_result"
    }
   ],
   "source": [
    "import numpy as np\n",
    "def kp_fraction(l,w):\n",
    "    totalValue=0\n",
    "    for i in range(len(l)):\n",
    "        if w==0:\n",
    "            break\n",
    "        if l[i][1]<=w:\n",
    "            totalValue+=l[i][1]*l[i][0]\n",
    "            w-=l[i][1]\n",
    "        else:\n",
    "            totalValue+=w*l[i][0]\n",
    "            w=0\n",
    "    return totalValue\n",
    "\n",
    "w=50\n",
    "value=np.array([60,100,120])\n",
    "weight=np.array([10,20,30])\n",
    "valuePerUnit=value/weight\n",
    "valuesSorted=sorted(zip(valuePerUnit,weight,value),reverse=True)\n",
    "\n",
    "kp_fraction(valuesSorted,w)"
   ]
  },
  {
   "cell_type": "code",
   "execution_count": 27,
   "id": "c49115f1",
   "metadata": {},
   "outputs": [
    {
     "data": {
      "text/plain": [
       "[(6.0, 10, 60), (5.0, 20, 100), (4.0, 30, 120)]"
      ]
     },
     "execution_count": 27,
     "metadata": {},
     "output_type": "execute_result"
    }
   ],
   "source": [
    "valuesSorted"
   ]
  },
  {
   "cell_type": "markdown",
   "id": "39b98b44",
   "metadata": {},
   "source": [
    "# Money Change Problem"
   ]
  },
  {
   "cell_type": "markdown",
   "id": "70216adb",
   "metadata": {},
   "source": [
    "### DC solution"
   ]
  },
  {
   "cell_type": "code",
   "execution_count": 7,
   "id": "66bae04d",
   "metadata": {},
   "outputs": [
    {
     "name": "stdout",
     "output_type": "stream",
     "text": [
      "4\n"
     ]
    }
   ],
   "source": [
    "import numpy as np\n",
    "def money_dc(l,n,amount):\n",
    "    if n==0 or amount==0:\n",
    "        return np.inf\n",
    "    if l[n-1]==amount:\n",
    "        return 1\n",
    "    if l[n-1]<amount:\n",
    "        return min(money_dc(l,n,amount-l[n-1])+1,money_dc(l,n-1,amount-l[n-1])+1,money_dc(l,n-1,amount))\n",
    "        \n",
    "    else:\n",
    "        return money_dc(l,n-1,amount)\n",
    "    \n",
    "    \n",
    "l=[1,2,3]\n",
    "n=len(l)\n",
    "m=10\n",
    "sol=money_dc(l,n,m)\n",
    "if sol==np.inf:\n",
    "    print(-1)\n",
    "else:\n",
    "    print(sol)"
   ]
  },
  {
   "cell_type": "markdown",
   "id": "0c705f27",
   "metadata": {},
   "source": [
    "### memoization DP solution"
   ]
  },
  {
   "cell_type": "code",
   "execution_count": 10,
   "id": "aeef47b5",
   "metadata": {},
   "outputs": [
    {
     "name": "stdout",
     "output_type": "stream",
     "text": [
      "10.0\n"
     ]
    }
   ],
   "source": [
    "import numpy as np\n",
    "def money_dp_memo(l,n,m):\n",
    "    if coin[n,m]!=-1:\n",
    "        return coin[n,m]\n",
    "    \n",
    "    if n==0 or m==0:\n",
    "        coin[n,m]=np.inf\n",
    "        return coin[n,m]\n",
    "    if l[n-1]==m:\n",
    "        coin[n,m]=1\n",
    "    elif l[n-1]<m:\n",
    "        coin[n,m]=min(money_dp_memo(l,n,m-l[n-1])+1,money_dp_memo(l,n-1,m-l[n-1])+1,money_dp_memo(l,n-1,m))\n",
    "    else:\n",
    "        coin[n,m]=money_dp_memo(l,n-1,m)\n",
    "    \n",
    "    return coin[n,m]\n",
    "    \n",
    "    \n",
    "    \n",
    "    \n",
    "    \n",
    "l=[1, 3, 5, 6, 9]\n",
    "n=len(l)\n",
    "m=90\n",
    "coin=np.empty(shape=(n+1,m+1))\n",
    "coin.fill(-1)\n",
    "sol=money_dp_memo(l,n,m)\n",
    "if sol==np.inf:\n",
    "    print(-1)\n",
    "else:\n",
    "    print(sol)"
   ]
  },
  {
   "cell_type": "markdown",
   "id": "8cf357be",
   "metadata": {},
   "source": [
    "### Tabulation DP solution"
   ]
  },
  {
   "cell_type": "code",
   "execution_count": 9,
   "id": "f766b28a",
   "metadata": {},
   "outputs": [
    {
     "name": "stdout",
     "output_type": "stream",
     "text": [
      "-1\n"
     ]
    }
   ],
   "source": [
    "import numpy as np\n",
    "def money_dp_table(l,n,m):\n",
    "    for i in range(n+1):\n",
    "        for j in range(m+1):\n",
    "            if i==0 or j==0:\n",
    "                coin[i,j]=np.inf\n",
    "            if l[i-1]==j:\n",
    "                coin[i,j]=1\n",
    "            elif l[i-1]<j:\n",
    "                coin[i,j]=min(coin[i,j-l[i-1]]+1,coin[i-1,j-l[i-1]]+1,coin[i-1,j])\n",
    "            else:\n",
    "                coin[i,j]=coin[i-1,j]\n",
    "\n",
    "\n",
    "    return coin[n,m]\n",
    "\n",
    "l=[2]\n",
    "n=len(l)\n",
    "m=5\n",
    "coin=np.empty(shape=(n+1,m+1))\n",
    "coin.fill(np.inf)\n",
    "sol=money_dp_table(l,n,m)\n",
    "if sol==np.inf:\n",
    "    print(-1)\n",
    "else:\n",
    "    print(sol)"
   ]
  },
  {
   "cell_type": "markdown",
   "id": "319a9058",
   "metadata": {},
   "source": [
    "# editing distance"
   ]
  },
  {
   "cell_type": "markdown",
   "id": "fa1c6296",
   "metadata": {},
   "source": [
    "### DC solution"
   ]
  },
  {
   "cell_type": "code",
   "execution_count": 4,
   "id": "08fb7054",
   "metadata": {},
   "outputs": [
    {
     "data": {
      "text/plain": [
       "5"
      ]
     },
     "execution_count": 4,
     "metadata": {},
     "output_type": "execute_result"
    }
   ],
   "source": [
    "def ed_dc(st1,st2,i,j):\n",
    "    if i==0 :\n",
    "        return j\n",
    "    \n",
    "    if j==0 :\n",
    "        return i\n",
    "    \n",
    "    if st1[i-1]==st2[j-1]:\n",
    "        return ed_dc(st1,st2,i-1,j-1)\n",
    "    else:\n",
    "        return min(ed_dc(st1,st2,i-1,j),ed_dc(st1,st2,i,j-1),ed_dc(st1,st2,i-1,j-1))+1\n",
    "    \n",
    "    \n",
    "str1='editing'\n",
    "str2='distance'\n",
    "ed_dc(str1,str2,len(str1),len(str2))"
   ]
  },
  {
   "cell_type": "markdown",
   "id": "35008214",
   "metadata": {},
   "source": [
    "### memoization DP solution"
   ]
  },
  {
   "cell_type": "code",
   "execution_count": 12,
   "id": "0d107532",
   "metadata": {},
   "outputs": [
    {
     "data": {
      "text/plain": [
       "0.0"
      ]
     },
     "execution_count": 12,
     "metadata": {},
     "output_type": "execute_result"
    }
   ],
   "source": [
    "import numpy as np\n",
    "def ed_dp_memo(st1,st2,i,j):\n",
    "    if ed[i,j]!=-1:\n",
    "        return ed[i,j]\n",
    "    if i==0:\n",
    "        ed[i,j]=j\n",
    "        return j\n",
    "    if j==0:\n",
    "        ed[i,j]=i\n",
    "        return i\n",
    "    \n",
    "    if st1[i-1]==st2[j-1]:\n",
    "            ed[i,j]=ed_dp_memo(st1,st2,i-1,j-1)\n",
    "    else:\n",
    "        ed[i,j]=min(ed_dp_memo(st1,st2,i-1,j),ed_dp_memo(st1,st2,i,j-1),ed_dp_memo(st1,st2,i-1,j-1))+1\n",
    "\n",
    "    return ed[i,j]\n",
    "\n",
    "str1='ad'\n",
    "str2='ad'\n",
    "n=len(str1)\n",
    "m=len(str2)\n",
    "ed=np.empty(shape=(n+1,m+1))\n",
    "ed.fill(-1)\n",
    "ed_dp_memo(str1,str2,n,m)"
   ]
  },
  {
   "cell_type": "markdown",
   "id": "9f009619",
   "metadata": {},
   "source": [
    "### Tabulation DP solution"
   ]
  },
  {
   "cell_type": "code",
   "execution_count": 17,
   "id": "6014804b",
   "metadata": {},
   "outputs": [
    {
     "data": {
      "text/plain": [
       "5.0"
      ]
     },
     "execution_count": 17,
     "metadata": {},
     "output_type": "execute_result"
    }
   ],
   "source": [
    "def ed_dp_table(st1,st2,i,j):\n",
    "    if j==0:\n",
    "        ed[i,j]=i\n",
    "    elif i==0:\n",
    "        ed[i,j]=j\n",
    "    elif st1[i-1]==st2[j-1]:\n",
    "        ed[i,j]=ed[i-1,j-1]\n",
    "    else:\n",
    "        ed[i,j]=min(ed[i-1,j-1],ed[i-1,j],ed[i,j-1])+1\n",
    "        \n",
    "    return ed[i,j]\n",
    "\n",
    "\n",
    "str1='editing'\n",
    "str2='distance'\n",
    "n=len(str1)\n",
    "m=len(str2)\n",
    "ed=np.empty(shape=(n+1,m+1))\n",
    "ed_dp_table(str1,str2,n,m)"
   ]
  },
  {
   "cell_type": "markdown",
   "id": "d6662875",
   "metadata": {},
   "source": [
    "# Longest Common Subsequence of Two Sequences"
   ]
  },
  {
   "cell_type": "markdown",
   "id": "48750986",
   "metadata": {},
   "source": [
    "### divide and conquer solution "
   ]
  },
  {
   "cell_type": "code",
   "execution_count": 1,
   "id": "db8b186c",
   "metadata": {},
   "outputs": [
    {
     "data": {
      "text/plain": [
       "4"
      ]
     },
     "execution_count": 1,
     "metadata": {},
     "output_type": "execute_result"
    }
   ],
   "source": [
    "def lcs_dc(st1,st2,n,m):\n",
    "    if n<0 or m<0:\n",
    "        return 0\n",
    "    \n",
    "    if st1[n]==st2[m]:\n",
    "        return lcs_dc(st1,st2,n-1,m-1)+1\n",
    "    else:\n",
    "        return max(lcs_dc(st1,str2,n,m-1),lcs_dc(st1,str2,n-1,m))\n",
    "    \n",
    "\n",
    "str1,str2='ABCBDAB','BDCABA'\n",
    "lcs_dc(str1,str2,len(str1)-1,len(str2)-1)"
   ]
  },
  {
   "cell_type": "markdown",
   "id": "be25fd26",
   "metadata": {},
   "source": [
    "### memoization DP solution"
   ]
  },
  {
   "cell_type": "code",
   "execution_count": 3,
   "id": "375535ee",
   "metadata": {},
   "outputs": [
    {
     "data": {
      "text/plain": [
       "4.0"
      ]
     },
     "execution_count": 3,
     "metadata": {},
     "output_type": "execute_result"
    }
   ],
   "source": [
    "import numpy as np\n",
    "def lcs_dp_memo(st1,st2,n,m):\n",
    "    if lcs[n,m]!=-1:\n",
    "        return lcs[n,m]\n",
    "    if n==0 or m==0:\n",
    "        lcs[n,m]=0\n",
    "        return 0\n",
    "    if st1[n-1]==st2[m-1]:\n",
    "        lcs[n,m]=lcs_dp_memo(st1,st2,n-1,m-1)+1\n",
    "        \n",
    "    else:\n",
    "        lcs[n,m]=max(lcs_dp_memo(st1,str2,n,m-1),lcs_dp_memo(st1,str2,n-1,m))\n",
    "    return lcs[n,m]\n",
    " \n",
    "str1,str2='ABCBDAB','BDCABA'\n",
    "n,m=len(str1),len(str2)\n",
    "lcs=np.empty(shape=(n+1,m+1))\n",
    "lcs.fill(-1)\n",
    "lcs_dp_memo(str1,str2,n,m)"
   ]
  },
  {
   "cell_type": "markdown",
   "id": "30676ee1",
   "metadata": {},
   "source": [
    "### Tabulation DP solution"
   ]
  },
  {
   "cell_type": "code",
   "execution_count": 4,
   "id": "a90a1509",
   "metadata": {},
   "outputs": [
    {
     "data": {
      "text/plain": [
       "4.0"
      ]
     },
     "execution_count": 4,
     "metadata": {},
     "output_type": "execute_result"
    }
   ],
   "source": [
    "def lcs_dp_table(st1,st2,n,m):\n",
    "    \n",
    "    for i in range(n+1):\n",
    "        for j in range(m+1):\n",
    "            if i==0 or j==0:\n",
    "                lcs[i,j]=0\n",
    "            elif st1[i-1]==st2[j-1]:\n",
    "                lcs[i,j]=lcs[i-1,j-1]+1\n",
    "                \n",
    "            else:\n",
    "                lcs[i,j]=max(lcs[i-1,j],lcs[i,j-1])\n",
    "                \n",
    "                    \n",
    "    \n",
    "    return lcs[n,m]\n",
    "    \n",
    "\n",
    "str1,str2='ABCBDAB','BDCABA'\n",
    "n,m=len(str1),len(str2)\n",
    "lcs=np.empty(shape=(n+1,m+1))\n",
    "lcs_dp_table(str1,str2,n,m)"
   ]
  },
  {
   "cell_type": "markdown",
   "id": "4ba6daad",
   "metadata": {},
   "source": [
    "### Tabulation DP solution with extract solution "
   ]
  },
  {
   "cell_type": "markdown",
   "id": "d257791e",
   "metadata": {},
   "source": [
    "#### instead of save only value, save tuple of value and from were this value come\n",
    "#### u-->(upper) mean value come from array[ i-1 , j ]\n",
    "#### l-->(left) mean value come from array[ i , j-1 ]\n",
    "#### c-->(corner) mean value come from array[ i-1 , j-1 ]"
   ]
  },
  {
   "cell_type": "code",
   "execution_count": 5,
   "id": "dc745010",
   "metadata": {},
   "outputs": [
    {
     "data": {
      "text/plain": [
       "4"
      ]
     },
     "execution_count": 5,
     "metadata": {},
     "output_type": "execute_result"
    }
   ],
   "source": [
    "def lcs_dp_table(st1,st2,n,m):\n",
    "    \n",
    "    for i in range(n+1):\n",
    "        for j in range(m+1):\n",
    "            if i==0 or j==0:\n",
    "                lcs[i,j]=(0,'')\n",
    "            elif st1[i-1]==st2[j-1]:\n",
    "                lcs[i,j]=(lcs[i-1,j-1][0]+1,'c')\n",
    "                \n",
    "            else:\n",
    "                if lcs[i-1,j][0]>lcs[i,j-1][0]:\n",
    "                    lcs[i,j]=(lcs[i-1,j][0],'u')\n",
    "                    \n",
    "                else:\n",
    "                    lcs[i,j]=(lcs[i,j-1][0],'l')\n",
    "                    \n",
    "    \n",
    "    return lcs[n,m][0]\n",
    "    \n",
    "\n",
    "\n",
    "str1,str2='ABCBDAB','BDCABA'\n",
    "n,m=len(str1),len(str2)\n",
    "lcs=np.empty(shape=(n+1,m+1),dtype=tuple)\n",
    "lcs_dp_table(str1,str2,n,m)"
   ]
  },
  {
   "cell_type": "code",
   "execution_count": 7,
   "id": "62d7eac0",
   "metadata": {},
   "outputs": [
    {
     "data": {
      "text/plain": [
       "array([[(0, ''), (0, ''), (0, ''), (0, ''), (0, ''), (0, ''), (0, '')],\n",
       "       [(0, ''), (0, 'l'), (0, 'l'), (0, 'l'), (1, 'c'), (1, 'l'),\n",
       "        (1, 'c')],\n",
       "       [(0, ''), (1, 'c'), (1, 'l'), (1, 'l'), (1, 'l'), (2, 'c'),\n",
       "        (2, 'l')],\n",
       "       [(0, ''), (1, 'u'), (1, 'l'), (2, 'c'), (2, 'l'), (2, 'l'),\n",
       "        (2, 'l')],\n",
       "       [(0, ''), (1, 'c'), (1, 'l'), (2, 'u'), (2, 'l'), (3, 'c'),\n",
       "        (3, 'l')],\n",
       "       [(0, ''), (1, 'u'), (2, 'c'), (2, 'l'), (2, 'l'), (3, 'u'),\n",
       "        (3, 'l')],\n",
       "       [(0, ''), (1, 'u'), (2, 'u'), (2, 'l'), (3, 'c'), (3, 'l'),\n",
       "        (4, 'c')],\n",
       "       [(0, ''), (1, 'c'), (2, 'u'), (2, 'l'), (3, 'u'), (4, 'c'),\n",
       "        (4, 'l')]], dtype=object)"
      ]
     },
     "execution_count": 7,
     "metadata": {},
     "output_type": "execute_result"
    }
   ],
   "source": [
    "lcs # this is the array of values"
   ]
  },
  {
   "cell_type": "markdown",
   "id": "5ce518f3",
   "metadata": {},
   "source": [
    "#### get solution from array of values"
   ]
  },
  {
   "cell_type": "code",
   "execution_count": 8,
   "id": "cc5c3033",
   "metadata": {},
   "outputs": [
    {
     "data": {
      "text/plain": [
       "'BDAB'"
      ]
     },
     "execution_count": 8,
     "metadata": {},
     "output_type": "execute_result"
    }
   ],
   "source": [
    "i,j=n,m\n",
    "s=''\n",
    "while i!=0 or j!=0:\n",
    "    if lcs[i,j][1]=='c':\n",
    "        s=str1[i-1]+s\n",
    "        i-=1\n",
    "        j-=1\n",
    "        \n",
    "    elif lcs[i,j][1]=='l':\n",
    "        j-=1\n",
    "    else:\n",
    "        i-=1\n",
    "    \n",
    "s"
   ]
  },
  {
   "cell_type": "markdown",
   "id": "0954d31a",
   "metadata": {},
   "source": [
    "# 0-1 Knapsack Problem"
   ]
  },
  {
   "cell_type": "markdown",
   "id": "e2fd9c2c",
   "metadata": {},
   "source": [
    "### DC solution"
   ]
  },
  {
   "cell_type": "code",
   "execution_count": 13,
   "id": "d0b1357f",
   "metadata": {},
   "outputs": [
    {
     "data": {
      "text/plain": [
       "220"
      ]
     },
     "execution_count": 13,
     "metadata": {},
     "output_type": "execute_result"
    }
   ],
   "source": [
    "def kp_dc(val,wt,w,i):\n",
    "    if w==0 or i==0:\n",
    "        return 0\n",
    "    \n",
    "    if wt[i-1]<=w:\n",
    "        return max(kp_dc(val,wt,w-wt[i-1],i-1)+val[i-1],kp_dc(val,wt,w,i-1))\n",
    "\n",
    "    else:\n",
    "        return kp_dc(val,wt,w,i-1)\n",
    "\n",
    "\n",
    "\n",
    "\n",
    "val = [60, 100, 120]\n",
    "wt = [10, 20, 30]\n",
    "w= 50\n",
    "kp_dc(val,wt,w,len(val))"
   ]
  },
  {
   "cell_type": "markdown",
   "id": "c35aa0d0",
   "metadata": {},
   "source": [
    "### memoization DP solution"
   ]
  },
  {
   "cell_type": "code",
   "execution_count": 23,
   "id": "092d24fe",
   "metadata": {},
   "outputs": [
    {
     "data": {
      "text/plain": [
       "220.0"
      ]
     },
     "execution_count": 23,
     "metadata": {},
     "output_type": "execute_result"
    }
   ],
   "source": [
    "def kp_dp_memo(val,wt,w,i):\n",
    "    if kp[w,i]!=-1:\n",
    "        return kp[w,i]\n",
    "    if w==0 or i==0:\n",
    "        kp[w,i]=0\n",
    "        return 0\n",
    "    if wt[i-1]<=w:\n",
    "        kp[w,i]=max(kp_dp_memo(val,wt,w-wt[i-1],i-1)+val[i-1],kp_dp_memo(val,wt,w,i-1))\n",
    "        \n",
    "\n",
    "    else:\n",
    "        kp[w,i]=kp_dp_memo(val,wt,w,i-1)\n",
    "        \n",
    "    return kp[w,i]\n",
    "\n",
    "\n",
    "\n",
    "val = [60, 100, 120]\n",
    "wt = [10, 20, 30]\n",
    "w= 50\n",
    "n=len(val)\n",
    "kp=np.empty(shape=(w+1,n+1))\n",
    "kp.fill(-1)\n",
    "kp_dp_memo(val,wt,w,n)"
   ]
  },
  {
   "cell_type": "markdown",
   "id": "6a86dd01",
   "metadata": {},
   "source": [
    "### Tabulation DP solution\n"
   ]
  },
  {
   "cell_type": "code",
   "execution_count": 26,
   "id": "42f823d8",
   "metadata": {},
   "outputs": [
    {
     "data": {
      "text/plain": [
       "220.0"
      ]
     },
     "execution_count": 26,
     "metadata": {},
     "output_type": "execute_result"
    }
   ],
   "source": [
    "def kp_dp_table(val,wt,w,n):\n",
    "    for j in range(w+1):\n",
    "        for i in range(n+1):\n",
    "            if j==0 or i==0:\n",
    "                kp[j,i]=0\n",
    "            elif wt[i-1]<=w:\n",
    "                kp[j,i]=max(kp[j-wt[i-1],i-1]+val[i-1],kp[j,i-1])\n",
    "            else:\n",
    "                kp[j,i]=kp[j,i-1]\n",
    "        \n",
    "    return kp[w,n]\n",
    "\n",
    "\n",
    "\n",
    "\n",
    "val = [60, 100, 120]\n",
    "wt = [10, 20, 30]\n",
    "w= 50\n",
    "n=len(val)\n",
    "kp=np.empty(shape=(w+1,n+1))\n",
    "kp_dp_table(val,wt,w,n)"
   ]
  },
  {
   "cell_type": "code",
   "execution_count": null,
   "id": "1ae626db",
   "metadata": {},
   "outputs": [],
   "source": []
  },
  {
   "cell_type": "code",
   "execution_count": null,
   "id": "77519661",
   "metadata": {},
   "outputs": [],
   "source": []
  },
  {
   "cell_type": "code",
   "execution_count": null,
   "id": "1a9ffd0b",
   "metadata": {},
   "outputs": [],
   "source": []
  }
 ],
 "metadata": {
  "kernelspec": {
   "display_name": "Python 3",
   "language": "python",
   "name": "python3"
  },
  "language_info": {
   "codemirror_mode": {
    "name": "ipython",
    "version": 3
   },
   "file_extension": ".py",
   "mimetype": "text/x-python",
   "name": "python",
   "nbconvert_exporter": "python",
   "pygments_lexer": "ipython3",
   "version": "3.8.8"
  }
 },
 "nbformat": 4,
 "nbformat_minor": 5
}
