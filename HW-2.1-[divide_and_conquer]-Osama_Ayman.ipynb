{
 "cells": [
  {
   "cell_type": "markdown",
   "id": "576cf1eb",
   "metadata": {},
   "source": [
    "## 1 Binary Search"
   ]
  },
  {
   "cell_type": "code",
   "execution_count": 16,
   "id": "d0f22ac6",
   "metadata": {},
   "outputs": [
    {
     "name": "stdout",
     "output_type": "stream",
     "text": [
      "Enter sorted list separated by space: 1 5 8 12 13\n",
      "Enter values want to search for separated by space: 8 1 23 1 11\n"
     ]
    },
    {
     "data": {
      "text/plain": [
       "[2, 0, -1, 0, -1]"
      ]
     },
     "execution_count": 16,
     "metadata": {},
     "output_type": "execute_result"
    }
   ],
   "source": [
    "def binarySearch(l,num,s,e):\n",
    "    mid=(s+e)//2\n",
    "    if s>e:\n",
    "        return -1\n",
    "    \n",
    "    if num==l[mid]:\n",
    "        return mid\n",
    "    \n",
    "    elif num>l[mid]:\n",
    "        return binarySearch(l,num,mid+1,e)\n",
    "        \n",
    "    else:\n",
    "        return binarySearch(l,num,s,mid-1)\n",
    "        \n",
    "\n",
    "myList=[int(x) for x in input(\"Enter sorted list separated by space: \").split(' ')]\n",
    "myValues=[int(x) for x in input(\"Enter values want to search for separated by space: \").split(' ')]\n",
    "\n",
    "results=[binarySearch(myList,val,0,len(myList)-1) for val in myValues]\n",
    "\n",
    "results"
   ]
  },
  {
   "cell_type": "markdown",
   "id": "d76d5bb9",
   "metadata": {},
   "source": [
    "## 2 Merge Sort"
   ]
  },
  {
   "cell_type": "code",
   "execution_count": 33,
   "id": "44405764",
   "metadata": {},
   "outputs": [
    {
     "name": "stdout",
     "output_type": "stream",
     "text": [
      "Enter list separated by space: 38 27 43 3 9 82 10\n"
     ]
    },
    {
     "data": {
      "text/plain": [
       "[3, 9, 27, 38, 43, 82, 10]"
      ]
     },
     "execution_count": 33,
     "metadata": {},
     "output_type": "execute_result"
    }
   ],
   "source": [
    "def mergeSort(lst):\n",
    "    if len(lst)>1:\n",
    "        mid=len(lst)//2\n",
    "        left=lst[:mid]\n",
    "        right=lst[mid:]\n",
    "        mergeSort(left)\n",
    "        mergeSort(right)\n",
    "        l=r=a=0\n",
    "        while l<len(left) and r<len(right):\n",
    "            if left[l]<right[r]:\n",
    "                lst[a]=left[l]\n",
    "                l+=1\n",
    "                a+=1\n",
    "            else:\n",
    "                lst[a]=right[r]\n",
    "                r+=1\n",
    "                a+=1\n",
    "                \n",
    "        while l<len(left):\n",
    "            lst[a]=left[l]\n",
    "            l+=1\n",
    "            a+=1\n",
    "            \n",
    "        while r<len(right):\n",
    "            lst[a]=right[r]\n",
    "            r+=1\n",
    "            a+=1\n",
    "            \n",
    "myList=[int(x) for x in input(\"Enter list separated by space: \").split(' ')]\n",
    "mergeSort(myList)\n",
    "myList"
   ]
  },
  {
   "cell_type": "markdown",
   "id": "8d25f166",
   "metadata": {},
   "source": [
    "## 3 Quick Sort"
   ]
  },
  {
   "cell_type": "code",
   "execution_count": 21,
   "id": "b66c79d5",
   "metadata": {},
   "outputs": [
    {
     "name": "stdout",
     "output_type": "stream",
     "text": [
      "Enter list separated by space: 9 -3 5 2 6 8 -6 1 3\n"
     ]
    },
    {
     "data": {
      "text/plain": [
       "[-6, -3, 1, 2, 3, 5, 6, 8, 9]"
      ]
     },
     "execution_count": 21,
     "metadata": {},
     "output_type": "execute_result"
    }
   ],
   "source": [
    "def quickSort(lst,s,e):\n",
    "    if s<e: \n",
    "        pivot=getPivot(lst,s,e)\n",
    "        quickSort(lst,s,pivot-1)\n",
    "        quickSort(lst,pivot+1,e)\n",
    "        \n",
    "        \n",
    "def getPivot(lst,s,e):\n",
    "    p=lst[e]\n",
    "    i=s-1\n",
    "    while s<e:\n",
    "        if lst[s]<p:\n",
    "            i+=1\n",
    "            lst[i],lst[s]=lst[s],lst[i]\n",
    "        s+=1\n",
    "        \n",
    "    lst[i+1],lst[e]=lst[e],lst[i+1]\n",
    "    \n",
    "    return i+1\n",
    "    \n",
    "\n",
    "    \n",
    "myList=[int(x) for x in input(\"Enter list separated by space: \").split(' ')]\n",
    "quickSort(myList,0,len(myList)-1)\n",
    "myList"
   ]
  },
  {
   "cell_type": "markdown",
   "id": "3b7a91de",
   "metadata": {},
   "source": [
    "## 4 Fast Exponentiation"
   ]
  },
  {
   "cell_type": "code",
   "execution_count": 13,
   "id": "972dd87f",
   "metadata": {},
   "outputs": [
    {
     "name": "stdout",
     "output_type": "stream",
     "text": [
      "Enter base , power and n separated by space: 15 7 4\n"
     ]
    },
    {
     "data": {
      "text/plain": [
       "3"
      ]
     },
     "execution_count": 13,
     "metadata": {},
     "output_type": "execute_result"
    }
   ],
   "source": [
    "def fastExpon(number,power):\n",
    "    if power==1:\n",
    "        return number\n",
    "    if power%2==0:\n",
    "        return fastExpon(number,power/2)*fastExpon(number,power/2)\n",
    "    else:\n",
    "        return fastExpon(number,power//2)*fastExpon(number,power//2)*number\n",
    "    \n",
    "base,power,n=(int(x) for x in input(\"Enter base , power and n separated by space: \").split(' '))  \n",
    "fastExpon(base,power)%n"
   ]
  },
  {
   "cell_type": "markdown",
   "id": "995a482a",
   "metadata": {},
   "source": [
    "## 5 segments and points"
   ]
  },
  {
   "cell_type": "code",
   "execution_count": 24,
   "id": "c3562980",
   "metadata": {},
   "outputs": [
    {
     "name": "stdout",
     "output_type": "stream",
     "text": [
      "Enter #segments and #points separated by space: 3 2\n",
      "Enter start of segment and end of segment separated by space: 0 5\n",
      "Enter start of segment and end of segment separated by space: -3 2\n",
      "Enter start of segment and end of segment separated by space: 7 10\n",
      "Enter points separated by space: 1 6\n"
     ]
    },
    {
     "data": {
      "text/plain": [
       "[2, 0]"
      ]
     },
     "execution_count": 24,
     "metadata": {},
     "output_type": "execute_result"
    }
   ],
   "source": [
    "def findPoint(segments,point,start,end):\n",
    "    mid =(start+end)//2\n",
    "    if start>end:\n",
    "        return 0\n",
    "    \n",
    "    left=findPoint(segments,point,start,mid-1)\n",
    "    right=findPoint(segments,point,mid+1,end)\n",
    "    \n",
    "    if segments[mid][0]<=point and segments[mid][1]>=point:\n",
    "        return 1+left+right\n",
    "   \n",
    "    return left+right\n",
    "\n",
    "\n",
    "\n",
    "s,p=(int(x) for x in input(\"Enter #segments and #points separated by space: \").split(' '))\n",
    "\n",
    "segments=[tuple(map(int,input(\"Enter start of segment and end of segment separated by space: \").split(' '))) for _ in range(s)]\n",
    "points=[int(x) for x in input(\"Enter points separated by space: \").split(' ')]\n",
    "\n",
    "\n",
    "results=[findPoint(segments,point,0,len(segments)-1) for point in points]\n",
    "\n",
    "results"
   ]
  },
  {
   "cell_type": "markdown",
   "id": "11794735",
   "metadata": {},
   "source": [
    "## 6 Majority Element"
   ]
  },
  {
   "cell_type": "code",
   "execution_count": 29,
   "id": "87fc45ce",
   "metadata": {},
   "outputs": [
    {
     "name": "stdout",
     "output_type": "stream",
     "text": [
      "Enter list separated by space: 2 3 9 2 2\n"
     ]
    },
    {
     "data": {
      "text/plain": [
       "1"
      ]
     },
     "execution_count": 29,
     "metadata": {},
     "output_type": "execute_result"
    }
   ],
   "source": [
    "def getMajority(lst):\n",
    "    size=len(lst)\n",
    "    majIndex,count= 0,1\n",
    "    for i in range(1,size):\n",
    "        if lst[majIndex]==lst[i]:\n",
    "            count+=1\n",
    "        else:\n",
    "            count-=1\n",
    "        \n",
    "        if count==0:\n",
    "            majIndex=i\n",
    "            count=1\n",
    "            \n",
    "    return lst[majIndex]\n",
    "\n",
    "def confirmMajority(lst,majority):\n",
    "    count=0\n",
    "    for element in lst:\n",
    "        if element == majority:\n",
    "            count+=1\n",
    "    \n",
    "    if count>len(lst)//2:\n",
    "        return 1\n",
    "    else:\n",
    "        return 0\n",
    "    \n",
    "    \n",
    "\n",
    "    \n",
    "    \n",
    "myList=[int(x) for x in input(\"Enter list separated by space: \").split(' ')]\n",
    "majority=getMajority(myList)\n",
    "confirmMajority(myList,majority)\n",
    "    "
   ]
  },
  {
   "cell_type": "code",
   "execution_count": null,
   "id": "81ad4c52",
   "metadata": {},
   "outputs": [],
   "source": []
  }
 ],
 "metadata": {
  "kernelspec": {
   "display_name": "Python 3",
   "language": "python",
   "name": "python3"
  },
  "language_info": {
   "codemirror_mode": {
    "name": "ipython",
    "version": 3
   },
   "file_extension": ".py",
   "mimetype": "text/x-python",
   "name": "python",
   "nbconvert_exporter": "python",
   "pygments_lexer": "ipython3",
   "version": "3.8.8"
  }
 },
 "nbformat": 4,
 "nbformat_minor": 5
}
