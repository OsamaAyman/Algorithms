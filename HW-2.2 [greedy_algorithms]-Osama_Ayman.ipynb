{
 "cells": [
  {
   "cell_type": "markdown",
   "metadata": {},
   "source": [
    "## 1) Scheduling problem"
   ]
  },
  {
   "cell_type": "code",
   "execution_count": 3,
   "metadata": {},
   "outputs": [
    {
     "data": {
      "text/plain": [
       "3"
      ]
     },
     "execution_count": 3,
     "metadata": {},
     "output_type": "execute_result"
    }
   ],
   "source": [
    "def Scheduling(l,t,n):\n",
    "    if n<0 or t==0:\n",
    "        return 0\n",
    "    if l[n]>t:\n",
    "        m=Scheduling(l,t,n-1)\n",
    "    else:\n",
    "        m=max(1+Scheduling(l,t-l[n],n-1),Scheduling(l,t,n-1))\n",
    "    return  m\n",
    "\n",
    "l=[5,3,4,2,1]\n",
    "Scheduling(l,6,len(l)-1)"
   ]
  },
  {
   "cell_type": "markdown",
   "metadata": {},
   "source": [
    "## 1) Scheduling problem another solution (faster than solution 1)"
   ]
  },
  {
   "cell_type": "code",
   "execution_count": 5,
   "metadata": {},
   "outputs": [
    {
     "data": {
      "text/plain": [
       "3"
      ]
     },
     "execution_count": 5,
     "metadata": {},
     "output_type": "execute_result"
    }
   ],
   "source": [
    "def Scheduling_2(l,t):\n",
    "    lst=sorted(l)\n",
    "    count=0\n",
    "    total=0\n",
    "    for item in lst:\n",
    "        total+=item\n",
    "        count+=1\n",
    "        if total==t:\n",
    "            return count\n",
    "        elif total>t:\n",
    "            return count-1\n",
    "        \n",
    "        \n",
    "l=[5,3,4,2,1]\n",
    "Scheduling_2(l,6)"
   ]
  },
  {
   "cell_type": "markdown",
   "metadata": {},
   "source": [
    "## 2) Activity Selection Problem"
   ]
  },
  {
   "cell_type": "code",
   "execution_count": 8,
   "metadata": {},
   "outputs": [
    {
     "data": {
      "text/plain": [
       "[0, 2]"
      ]
     },
     "execution_count": 8,
     "metadata": {},
     "output_type": "execute_result"
    }
   ],
   "source": [
    "def Activity(starts,ends):\n",
    "    n=len(starts)\n",
    "    i=0\n",
    "    results=[]\n",
    "    results.append(i)\n",
    "    for j in range(1,n):\n",
    "         if starts[j] >= ends[i]:\n",
    "            results.append(j)\n",
    "            i = j\n",
    "            \n",
    "    return results\n",
    "\n",
    "\n",
    "start = [10, 12, 20]\n",
    "finish = [20, 25, 30]\n",
    "Activity(start,finish)"
   ]
  },
  {
   "cell_type": "code",
   "execution_count": null,
   "metadata": {},
   "outputs": [],
   "source": []
  }
 ],
 "metadata": {
  "kernelspec": {
   "display_name": "Python 3",
   "language": "python",
   "name": "python3"
  },
  "language_info": {
   "codemirror_mode": {
    "name": "ipython",
    "version": 3
   },
   "file_extension": ".py",
   "mimetype": "text/x-python",
   "name": "python",
   "nbconvert_exporter": "python",
   "pygments_lexer": "ipython3",
   "version": "3.8.5"
  }
 },
 "nbformat": 4,
 "nbformat_minor": 4
}
